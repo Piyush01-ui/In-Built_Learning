{
  "nbformat": 4,
  "nbformat_minor": 0,
  "metadata": {
    "colab": {
      "provenance": [],
      "gpuType": "T4"
    },
    "kernelspec": {
      "name": "python3",
      "display_name": "Python 3"
    },
    "language_info": {
      "name": "python"
    },
    "accelerator": "GPU"
  },
  "cells": [
    {
      "cell_type": "code",
      "source": [
        "# Importing required libraries and modules\n",
        "import numpy as np\n",
        "import pandas as pd\n",
        "import keras\n",
        "from keras.datasets import cifar10\n",
        "from keras.models import Sequential\n",
        "from keras.layers import Dense, Dropout, Flatten\n",
        "from keras.layers import Conv2D, MaxPooling2D\n",
        "from keras.optimizers import Adam\n",
        "from keras.utils import to_categorical"
      ],
      "metadata": {
        "id": "RG7F1bEcBCvs"
      },
      "execution_count": 1,
      "outputs": []
    },
    {
      "cell_type": "code",
      "source": [
        "(train_images, train_labels), (test_images, test_labels) = cifar10.load_data()\n",
        "\n",
        "num_classes = 10\n",
        "\n",
        "# Flatten the data to 4 dimensions: samples, width, height, features\n",
        "train_images = train_images.reshape(train_images.shape[0], 32, 32, 3)\n",
        "train_images = train_images.astype('float32') / 255\n",
        "\n",
        "test_images = test_images.reshape(test_images.shape[0], 32, 32, 3)\n",
        "test_images = test_images.astype('float32') / 255\n",
        "\n",
        "# One hot encode the labels\n",
        "train_labels = to_categorical(train_labels, num_classes)\n",
        "test_labels = to_categorical(test_labels, num_classes)"
      ],
      "metadata": {
        "id": "-N7RcxdQTZlC"
      },
      "execution_count": 2,
      "outputs": []
    },
    {
      "cell_type": "code",
      "source": [
        "model = Sequential()\n",
        "model.add(Conv2D(32, kernel_size=(3, 3),\n",
        "                 activation='relu',\n",
        "                 input_shape=(32, 32, 3)))\n",
        "model.add(Conv2D(64, (3, 3), activation='relu'))\n",
        "model.add(MaxPooling2D(pool_size=(2, 2)))\n",
        "model.add(Dropout(0.25))\n",
        "model.add(Flatten())\n",
        "model.add(Dense(128, activation='relu'))\n",
        "model.add(Dropout(0.5))\n",
        "model.add(Dense(num_classes, activation='softmax'))"
      ],
      "metadata": {
        "id": "8NvieYDawJiu"
      },
      "execution_count": 3,
      "outputs": []
    },
    {
      "cell_type": "code",
      "source": [
        "model.compile(loss=keras.losses.categorical_crossentropy,\n",
        "              optimizer=Adam(learning_rate=0.001),\n",
        "              metrics=['accuracy'])"
      ],
      "metadata": {
        "id": "Us32RLaSwTLS"
      },
      "execution_count": 4,
      "outputs": []
    },
    {
      "cell_type": "code",
      "source": [
        "batch_size = 128\n",
        "\n",
        "model.fit(train_images, train_labels,\n",
        "          batch_size=batch_size,\n",
        "          epochs=20,\n",
        "          verbose=1,\n",
        "          validation_data=(test_images, test_labels))"
      ],
      "metadata": {
        "colab": {
          "base_uri": "https://localhost:8080/"
        },
        "id": "GLho5-Q8wUtR",
        "outputId": "babaee7d-21fc-44aa-d6bd-92d646b1ec97"
      },
      "execution_count": 5,
      "outputs": [
        {
          "output_type": "stream",
          "name": "stdout",
          "text": [
            "Epoch 1/20\n",
            "391/391 [==============================] - 14s 23ms/step - loss: 1.6819 - accuracy: 0.3874 - val_loss: 1.3042 - val_accuracy: 0.5459\n",
            "Epoch 2/20\n",
            "391/391 [==============================] - 7s 18ms/step - loss: 1.3280 - accuracy: 0.5282 - val_loss: 1.1079 - val_accuracy: 0.6207\n",
            "Epoch 3/20\n",
            "391/391 [==============================] - 6s 16ms/step - loss: 1.1890 - accuracy: 0.5778 - val_loss: 1.0326 - val_accuracy: 0.6446\n",
            "Epoch 4/20\n",
            "391/391 [==============================] - 5s 12ms/step - loss: 1.1015 - accuracy: 0.6092 - val_loss: 0.9700 - val_accuracy: 0.6621\n",
            "Epoch 5/20\n",
            "391/391 [==============================] - 5s 13ms/step - loss: 1.0445 - accuracy: 0.6277 - val_loss: 0.9447 - val_accuracy: 0.6745\n",
            "Epoch 6/20\n",
            "391/391 [==============================] - 5s 12ms/step - loss: 0.9930 - accuracy: 0.6486 - val_loss: 0.9347 - val_accuracy: 0.6755\n",
            "Epoch 7/20\n",
            "391/391 [==============================] - 5s 12ms/step - loss: 0.9479 - accuracy: 0.6626 - val_loss: 0.9079 - val_accuracy: 0.6863\n",
            "Epoch 8/20\n",
            "391/391 [==============================] - 5s 12ms/step - loss: 0.9203 - accuracy: 0.6735 - val_loss: 0.8884 - val_accuracy: 0.6919\n",
            "Epoch 9/20\n",
            "391/391 [==============================] - 4s 11ms/step - loss: 0.8763 - accuracy: 0.6867 - val_loss: 0.9023 - val_accuracy: 0.6869\n",
            "Epoch 10/20\n",
            "391/391 [==============================] - 5s 12ms/step - loss: 0.8555 - accuracy: 0.6946 - val_loss: 0.8732 - val_accuracy: 0.6990\n",
            "Epoch 11/20\n",
            "391/391 [==============================] - 5s 12ms/step - loss: 0.8190 - accuracy: 0.7070 - val_loss: 0.8831 - val_accuracy: 0.6968\n",
            "Epoch 12/20\n",
            "391/391 [==============================] - 4s 11ms/step - loss: 0.7959 - accuracy: 0.7127 - val_loss: 0.8863 - val_accuracy: 0.6951\n",
            "Epoch 13/20\n",
            "391/391 [==============================] - 5s 12ms/step - loss: 0.7715 - accuracy: 0.7228 - val_loss: 0.8853 - val_accuracy: 0.6913\n",
            "Epoch 14/20\n",
            "391/391 [==============================] - 4s 11ms/step - loss: 0.7482 - accuracy: 0.7289 - val_loss: 0.8737 - val_accuracy: 0.7021\n",
            "Epoch 15/20\n",
            "391/391 [==============================] - 5s 12ms/step - loss: 0.7290 - accuracy: 0.7343 - val_loss: 0.8704 - val_accuracy: 0.7038\n",
            "Epoch 16/20\n",
            "391/391 [==============================] - 5s 12ms/step - loss: 0.7105 - accuracy: 0.7450 - val_loss: 0.8885 - val_accuracy: 0.6984\n",
            "Epoch 17/20\n",
            "391/391 [==============================] - 5s 12ms/step - loss: 0.6895 - accuracy: 0.7479 - val_loss: 0.8877 - val_accuracy: 0.7018\n",
            "Epoch 18/20\n",
            "391/391 [==============================] - 5s 13ms/step - loss: 0.6742 - accuracy: 0.7542 - val_loss: 0.9210 - val_accuracy: 0.6963\n",
            "Epoch 19/20\n",
            "391/391 [==============================] - 5s 12ms/step - loss: 0.6621 - accuracy: 0.7581 - val_loss: 0.8792 - val_accuracy: 0.7076\n",
            "Epoch 20/20\n",
            "391/391 [==============================] - 5s 12ms/step - loss: 0.6445 - accuracy: 0.7652 - val_loss: 0.8844 - val_accuracy: 0.7068\n"
          ]
        },
        {
          "output_type": "execute_result",
          "data": {
            "text/plain": [
              "<keras.src.callbacks.History at 0x7ede467da110>"
            ]
          },
          "metadata": {},
          "execution_count": 5
        }
      ]
    },
    {
      "cell_type": "code",
      "source": [
        "# Assuming that test_images contains the data you want to use for prediction\n",
        "predictions = model.predict(test_images)\n",
        "Results = model.evaluate(test_images, test_labels, batch_size=batch_size)\n",
        "print(\"Testing Results:\", Results)"
      ],
      "metadata": {
        "colab": {
          "base_uri": "https://localhost:8080/"
        },
        "id": "kqhun4KcwlCt",
        "outputId": "348c59fc-bd97-42b7-f07d-550b56c69dc7"
      },
      "execution_count": 6,
      "outputs": [
        {
          "output_type": "stream",
          "name": "stdout",
          "text": [
            "313/313 [==============================] - 1s 2ms/step\n",
            "79/79 [==============================] - 0s 5ms/step - loss: 0.8844 - accuracy: 0.7068\n",
            "Testing Results: [0.8844407200813293, 0.7067999839782715]\n"
          ]
        }
      ]
    },
    {
      "cell_type": "code",
      "source": [
        "predictions_train = model.predict(train_images)\n",
        "Results = model.evaluate(train_images, train_labels)\n",
        "print(\"Training Results:\", Results)"
      ],
      "metadata": {
        "colab": {
          "base_uri": "https://localhost:8080/"
        },
        "id": "0Rw5s1YMx5PD",
        "outputId": "4e947a4f-4813-4f7f-f916-d68e959432b6"
      },
      "execution_count": 7,
      "outputs": [
        {
          "output_type": "stream",
          "name": "stdout",
          "text": [
            "1563/1563 [==============================] - 4s 2ms/step\n",
            "1563/1563 [==============================] - 5s 3ms/step - loss: 0.3344 - accuracy: 0.9061\n",
            "Training Results: [0.33444735407829285, 0.9061200022697449]\n"
          ]
        }
      ]
    },
    {
      "cell_type": "code",
      "source": [
        "predictions[1]"
      ],
      "metadata": {
        "colab": {
          "base_uri": "https://localhost:8080/"
        },
        "id": "lG9FIzho4tPX",
        "outputId": "9b0ca233-c9be-4e39-f22b-4940f25f5e2a"
      },
      "execution_count": 8,
      "outputs": [
        {
          "output_type": "execute_result",
          "data": {
            "text/plain": [
              "array([1.8990700e-03, 1.7876151e-01, 1.1856915e-09, 2.8110855e-10,\n",
              "       1.0656533e-11, 2.2617233e-14, 2.7371031e-14, 3.3971313e-12,\n",
              "       8.1933844e-01, 1.0085898e-06], dtype=float32)"
            ]
          },
          "metadata": {},
          "execution_count": 8
        }
      ]
    },
    {
      "cell_type": "markdown",
      "source": [
        "### Test Confusion Matrix :"
      ],
      "metadata": {
        "id": "VNRD3y0B5g4j"
      }
    },
    {
      "cell_type": "code",
      "source": [
        "import seaborn as sns\n",
        "from sklearn import metrics\n",
        "confusion_matrix = metrics.confusion_matrix(test_labels.argmax(axis=1), predictions.argmax(axis=1))\n",
        "sns.heatmap(confusion_matrix)"
      ],
      "metadata": {
        "colab": {
          "base_uri": "https://localhost:8080/",
          "height": 447
        },
        "id": "Xpx3AF3R0UwS",
        "outputId": "0b048665-efb7-4099-efe2-dce5aeec4d93"
      },
      "execution_count": 9,
      "outputs": [
        {
          "output_type": "execute_result",
          "data": {
            "text/plain": [
              "<Axes: >"
            ]
          },
          "metadata": {},
          "execution_count": 9
        },
        {
          "output_type": "display_data",
          "data": {
            "text/plain": [
              "<Figure size 640x480 with 2 Axes>"
            ],
            "image/png": "[encoded data removed]"
          },
          "metadata": {}
        }
      ]
    },
    {
      "cell_type": "markdown",
      "source": [
        "### Train Confusion Matrix"
      ],
      "metadata": {
        "id": "2g6B_G015cSM"
      }
    },
    {
      "cell_type": "code",
      "source": [
        "confusion_matrix = metrics.confusion_matrix(train_labels.argmax(axis=1), predictions_train.argmax(axis=1))\n",
        "sns.heatmap(confusion_matrix)"
      ],
      "metadata": {
        "colab": {
          "base_uri": "https://localhost:8080/",
          "height": 447
        },
        "id": "vRl9eGQJ3q6t",
        "outputId": "6602c8e6-29d9-4406-91eb-a750aa5eb87d"
      },
      "execution_count": 10,
      "outputs": [
        {
          "output_type": "execute_result",
          "data": {
            "text/plain": [
              "<Axes: >"
            ]
          },
          "metadata": {},
          "execution_count": 10
        },
        {
          "output_type": "display_data",
          "data": {
            "text/plain": [
              "<Figure size 640x480 with 2 Axes>"
            ],
            "image/png": "[encoded data removed]"
          },
          "metadata": {}
        }
      ]
    },
    {
      "cell_type": "code",
      "source": [],
      "metadata": {
        "id": "pMYj0eiE5qPo"
      },
      "execution_count": 10,
      "outputs": []
    }
  ]
}